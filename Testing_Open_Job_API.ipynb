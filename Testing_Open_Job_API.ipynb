{
 "cells": [
  {
   "cell_type": "code",
   "execution_count": 1,
   "metadata": {},
   "outputs": [],
   "source": [
    "import pandas as pd\n",
    "import numpy as np\n",
    "import requests"
   ]
  },
  {
   "cell_type": "code",
   "execution_count": 211,
   "metadata": {},
   "outputs": [],
   "source": [
    "skills = ['learning', 'data', 'computer', 'science', 'deep', 'machine', 'experience', 'work', 'skills']"
   ]
  },
  {
   "cell_type": "code",
   "execution_count": null,
   "metadata": {},
   "outputs": [],
   "source": [
    "https://jobs.github.com/positions.json?\n",
    "description=python&location=sf&full_time=true\n",
    "location=austin"
   ]
  },
  {
   "cell_type": "code",
   "execution_count": 212,
   "metadata": {},
   "outputs": [],
   "source": [
    "def job_data(description)\n",
    "    df = pd.DataFrame()\n",
    "    for skill in skills:\n",
    "        url = 'https://jobs.github.com/positions.json?'\n",
    "        endpoint = 'description=' + description + '&full_time=true'\n",
    "        request = requests.get(url + endpoint + skill)\n",
    "        response = request.json()\n",
    "        data = pd.DataFrame(response)\n",
    "        df = pd.concat([df, data], axis=0, ignore_index=True)"
   ]
  },
  {
   "cell_type": "code",
   "execution_count": 231,
   "metadata": {},
   "outputs": [],
   "source": [
    "def job_data(description):\n",
    "    df = pd.DataFrame()\n",
    "    url = 'https://jobs.github.com/positions.json?'\n",
    "    endpoint = 'description=' + description + '&full_time=true'\n",
    "    request = requests.get(url + endpoint + skill)\n",
    "    response = request.json()\n",
    "    data = pd.DataFrame(response)\n",
    "    df = pd.concat([df, data], axis=0, ignore_index=True)\n",
    "    return df"
   ]
  },
  {
   "cell_type": "code",
   "execution_count": 233,
   "metadata": {},
   "outputs": [],
   "source": [
    "df = job_data('machine')"
   ]
  },
  {
   "cell_type": "code",
   "execution_count": 243,
   "metadata": {},
   "outputs": [
    {
     "data": {
      "text/plain": [
       "Index(['company', 'company_logo', 'company_url', 'created_at', 'description',\n",
       "       'how_to_apply', 'id', 'location', 'title', 'type', 'url'],\n",
       "      dtype='object')"
      ]
     },
     "execution_count": 243,
     "metadata": {},
     "output_type": "execute_result"
    }
   ],
   "source": [
    "df.columns"
   ]
  },
  {
   "cell_type": "code",
   "execution_count": 248,
   "metadata": {},
   "outputs": [
    {
     "data": {
      "text/plain": [
       "company         14\n",
       "company_logo    24\n",
       "company_url     12\n",
       "created_at      26\n",
       "description     26\n",
       "how_to_apply    23\n",
       "id              26\n",
       "location        15\n",
       "title           25\n",
       "type             1\n",
       "url             26\n",
       "dtype: int64"
      ]
     },
     "execution_count": 248,
     "metadata": {},
     "output_type": "execute_result"
    }
   ],
   "source": [
    "df.nunique()"
   ]
  },
  {
   "cell_type": "code",
   "execution_count": 239,
   "metadata": {},
   "outputs": [
    {
     "data": {
      "text/plain": [
       "Apple Inc.                                       11\n",
       "SmartNews                                         2\n",
       "Informatica                                       2\n",
       "spaceOS Limited                                   1\n",
       "Numbrs Personal Finance AG                        1\n",
       "DRONE CHAMPIONS AG                                1\n",
       "Able Applied Technologies                         1\n",
       "Drukwerkdeal.nl                                   1\n",
       "Shoplogix                                         1\n",
       "Booking.com BV                                    1\n",
       "NinthDecimal                                      1\n",
       "trivago                                           1\n",
       "UC San Diego Center for Microbiome Innovation     1\n",
       "HashiCorp                                         1\n",
       "Name: company, dtype: int64"
      ]
     },
     "execution_count": 239,
     "metadata": {},
     "output_type": "execute_result"
    }
   ],
   "source": [
    "df['company'].value_counts()"
   ]
  },
  {
   "cell_type": "code",
   "execution_count": 247,
   "metadata": {},
   "outputs": [
    {
     "data": {
      "text/html": [
       "<div>\n",
       "<style scoped>\n",
       "    .dataframe tbody tr th:only-of-type {\n",
       "        vertical-align: middle;\n",
       "    }\n",
       "\n",
       "    .dataframe tbody tr th {\n",
       "        vertical-align: top;\n",
       "    }\n",
       "\n",
       "    .dataframe thead th {\n",
       "        text-align: right;\n",
       "    }\n",
       "</style>\n",
       "<table border=\"1\" class=\"dataframe\">\n",
       "  <thead>\n",
       "    <tr style=\"text-align: right;\">\n",
       "      <th></th>\n",
       "      <th>title</th>\n",
       "      <th>location</th>\n",
       "    </tr>\n",
       "  </thead>\n",
       "  <tbody>\n",
       "    <tr>\n",
       "      <th>0</th>\n",
       "      <td>Siri - Software Engineer, Information</td>\n",
       "      <td>Seattle, WA</td>\n",
       "    </tr>\n",
       "    <tr>\n",
       "      <th>1</th>\n",
       "      <td>Siri - Senior Language Technologies R&amp;D Scient...</td>\n",
       "      <td>Cupertino, CA</td>\n",
       "    </tr>\n",
       "    <tr>\n",
       "      <th>2</th>\n",
       "      <td>Siri - Language Modeling Scientist</td>\n",
       "      <td>Cupertino, CA</td>\n",
       "    </tr>\n",
       "    <tr>\n",
       "      <th>3</th>\n",
       "      <td>Siri - Knowledge Software Engineer</td>\n",
       "      <td>Cupertino, CA</td>\n",
       "    </tr>\n",
       "    <tr>\n",
       "      <th>9</th>\n",
       "      <td>Software Engineer, Universal Media</td>\n",
       "      <td>Cupertino, CA</td>\n",
       "    </tr>\n",
       "    <tr>\n",
       "      <th>10</th>\n",
       "      <td>Siri - Senior Data Platform Engineer</td>\n",
       "      <td>Cupertino, CA</td>\n",
       "    </tr>\n",
       "    <tr>\n",
       "      <th>11</th>\n",
       "      <td>Siri - Senior Machine Translation R&amp;D Scientist</td>\n",
       "      <td>Cupertino, CA</td>\n",
       "    </tr>\n",
       "    <tr>\n",
       "      <th>15</th>\n",
       "      <td>Siri - Software Engineer, Music</td>\n",
       "      <td>Cupertino, CA</td>\n",
       "    </tr>\n",
       "    <tr>\n",
       "      <th>23</th>\n",
       "      <td>Apple Music - Data Scientist</td>\n",
       "      <td>Cupertino, CA</td>\n",
       "    </tr>\n",
       "    <tr>\n",
       "      <th>24</th>\n",
       "      <td>Apple Music - Analytics Manager, Product &amp; Con...</td>\n",
       "      <td>Cupertino, CA</td>\n",
       "    </tr>\n",
       "    <tr>\n",
       "      <th>25</th>\n",
       "      <td>Siri - Software Engineer, Music</td>\n",
       "      <td>Cupertino, CA</td>\n",
       "    </tr>\n",
       "  </tbody>\n",
       "</table>\n",
       "</div>"
      ],
      "text/plain": [
       "                                                title       location\n",
       "0               Siri - Software Engineer, Information    Seattle, WA\n",
       "1   Siri - Senior Language Technologies R&D Scient...  Cupertino, CA\n",
       "2                  Siri - Language Modeling Scientist  Cupertino, CA\n",
       "3                  Siri - Knowledge Software Engineer  Cupertino, CA\n",
       "9                  Software Engineer, Universal Media  Cupertino, CA\n",
       "10               Siri - Senior Data Platform Engineer  Cupertino, CA\n",
       "11    Siri - Senior Machine Translation R&D Scientist  Cupertino, CA\n",
       "15                    Siri - Software Engineer, Music  Cupertino, CA\n",
       "23                       Apple Music - Data Scientist  Cupertino, CA\n",
       "24  Apple Music - Analytics Manager, Product & Con...  Cupertino, CA\n",
       "25                    Siri - Software Engineer, Music  Cupertino, CA"
      ]
     },
     "execution_count": 247,
     "metadata": {},
     "output_type": "execute_result"
    }
   ],
   "source": [
    "df[ df['company']=='Apple Inc.' ][['title','location']]"
   ]
  }
 ],
 "metadata": {
  "kernelspec": {
   "display_name": "Python 3",
   "language": "python",
   "name": "python3"
  },
  "language_info": {
   "codemirror_mode": {
    "name": "ipython",
    "version": 3
   },
   "file_extension": ".py",
   "mimetype": "text/x-python",
   "name": "python",
   "nbconvert_exporter": "python",
   "pygments_lexer": "ipython3",
   "version": "3.6.4"
  }
 },
 "nbformat": 4,
 "nbformat_minor": 2
}
